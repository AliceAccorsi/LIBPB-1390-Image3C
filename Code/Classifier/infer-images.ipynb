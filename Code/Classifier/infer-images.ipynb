{
 "cells": [
  {
   "cell_type": "code",
   "execution_count": null,
   "metadata": {},
   "outputs": [],
   "source": [
    "import numpy as np\n",
    "import tensorflow as tf\n",
    "from matplotlib import pyplot as plt\n",
    "import pandas as pd\n",
    "import seaborn as sns"
   ]
  },
  {
   "cell_type": "code",
   "execution_count": null,
   "metadata": {},
   "outputs": [],
   "source": [
    "tf.__version__  #must be 1.15"
   ]
  },
  {
   "cell_type": "code",
   "execution_count": null,
   "metadata": {},
   "outputs": [],
   "source": [
    "\n",
    "datadir = 'Data/' # path to the data directory"
   ]
  },
  {
   "cell_type": "code",
   "execution_count": null,
   "metadata": {
    "tags": []
   },
   "outputs": [],
   "source": [
    "import glob\n",
    "\n",
    "def read_mm(mfile):\n",
    "    hm=np.memmap(mfile, dtype=np.int32, shape=(4,))\n",
    "    shape = tuple(hm)\n",
    "    del hm\n",
    "\n",
    "    mm = np.memmap(mfile, dtype=np.float32, shape=shape)\n",
    "    mm.shape\n",
    "    \n",
    "    amm = mm[:,:,:,[2, 0, 4, 0, 1]]\n",
    "    amm = amm[:,:,:, [0,2,4]]\n",
    "    del mm\n",
    "    return amm\n",
    "\n",
    "def read_data(globpattern):\n",
    "    ifiles = glob.glob(globpattern)\n",
    "    ammdict = dict()\n",
    "    for i in ifiles:\n",
    "        amm = read_mm(i)\n",
    "        amm_m = amm.mean(axis=(1,2), keepdims=True)\n",
    "        amm_std = amm.std(axis=(1,2), keepdims=True)\n",
    "        amm = (amm - amm_m)/amm_std\n",
    "        print(amm.shape)\n",
    "        ammdict[i.split('/')[-1]] = amm\n",
    "   \n",
    "    return ammdict\n",
    "\n",
    "ammdict = read_data('Data/path_to_data/*.mm') "
   ]
  },
  {
   "cell_type": "code",
   "execution_count": null,
   "metadata": {},
   "outputs": [],
   "source": []
  },
  {
   "cell_type": "code",
   "execution_count": null,
   "metadata": {},
   "outputs": [],
   "source": [
    "tf.reset_default_graph()\n",
    "sess = tf.Session()\n"
   ]
  },
  {
   "cell_type": "code",
   "execution_count": null,
   "metadata": {
    "tags": []
   },
   "outputs": [],
   "source": [
    "cpdir = ''  # Checkpoint directory\n",
    "checkpoint = ''  #checkpoint name\n",
    "if not cpdir.endswith('/'):\n",
    "    cpdir += '/'\n",
    "\n",
    "cpmeta = cpdir + checkpoint + '.meta'\n",
    "saver = tf.train.import_meta_graph(cpmeta)\n",
    "saver.restore(sess, cpdir + checkpoint)"
   ]
  },
  {
   "cell_type": "code",
   "execution_count": null,
   "metadata": {
    "scrolled": true,
    "tags": []
   },
   "outputs": [],
   "source": [
    "pq = 'dense_1/BiasAdd'.lower()\n",
    "print(pq)\n",
    "g = tf.get_default_graph()\n",
    "ops = g.get_operations()\n",
    "for op in ops:\n",
    "    if pq in op.name.lower():\n",
    "        print(op.name, op.outputs)"
   ]
  },
  {
   "cell_type": "code",
   "execution_count": null,
   "metadata": {},
   "outputs": [],
   "source": [
    "'''\n",
    "a : the layer in the network before the last relu activation\n",
    "b : the last relu activation, just before softmax\n",
    "sm : the softmax probabilities\n",
    "batch : the placeholder for input images\n",
    "'''\n",
    "a = sess.graph.get_tensor_by_name('dense_1/BiasAdd:0')\n",
    "b = sess.graph.get_tensor_by_name('LeakyRelu_13:0') #'dense_1/BiasAdd:0')\n",
    "sm = sess.graph.get_tensor_by_name('Softmax:0')\n",
    "\n",
    "softmax = sess.graph.get_tensor_by_name('Softmax:0')\n",
    "batch = sess.graph.get_tensor_by_name('Placeholder:0')"
   ]
  },
  {
   "cell_type": "code",
   "execution_count": null,
   "metadata": {},
   "outputs": [],
   "source": [
    "a, b, sm"
   ]
  },
  {
   "cell_type": "code",
   "execution_count": null,
   "metadata": {},
   "outputs": [],
   "source": []
  },
  {
   "cell_type": "code",
   "execution_count": null,
   "metadata": {},
   "outputs": [],
   "source": [
    "ammdict[list(ammdict.keys())[2]].shape"
   ]
  },
  {
   "cell_type": "code",
   "execution_count": null,
   "metadata": {},
   "outputs": [],
   "source": [
    "'''\n",
    "This is the cell where the inferring happens.\n",
    "\n",
    "use sess.run to get the last three layers of the network\n",
    "the softmax prediction (array of number of classes) is p2\n",
    "the other two layers are d2 and r2\n",
    "\n",
    "the dataframe will be\n",
    "sm : the predicted class\n",
    "smmax : the probability of the predicted class\n",
    "dataset : dataset the image is in (from input file)\n",
    "'''\n",
    "\n",
    "images = sess.graph.get_tensor_by_name('Placeholder:0')\n",
    "adflist = list()\n",
    "d2list = list()\n",
    "for k, v in ammdict.items():\n",
    "    d2, r2, p2 = sess.run([a, b, sm], feed_dict={images:v[:, 16:48, 16:48, :]})\n",
    "    d2list.append(d2)\n",
    "    p2x = np.argmax(p2, axis=-1)\n",
    "    s = k.split('_')\n",
    "    dataset = k\n",
    "    xdf = pd.DataFrame({'sm':p2x, 'smmax':p2.max(axis=-1), 'dataset':dataset})\n",
    "    adflist.append(xdf)\n",
    "\n",
    "adf = pd.concat(adflist, axis=0)\n",
    "d2array = np.concatenate(d2list)\n",
    "d2array.shape"
   ]
  },
  {
   "cell_type": "code",
   "execution_count": null,
   "metadata": {},
   "outputs": [],
   "source": [
    "adf.head()\n"
   ]
  },
  {
   "cell_type": "code",
   "execution_count": null,
   "metadata": {},
   "outputs": [],
   "source": [
    "radf = adf.reset_index()"
   ]
  },
  {
   "cell_type": "code",
   "execution_count": null,
   "metadata": {},
   "outputs": [],
   "source": [
    "radf.to_pickle(\"\")  # save the dataframe to a pickle to analyze later"
   ]
  },
  {
   "cell_type": "code",
   "execution_count": null,
   "metadata": {
    "tags": []
   },
   "outputs": [],
   "source": [
    "\n",
    "\n",
    "    \n"
   ]
  },
  {
   "cell_type": "code",
   "execution_count": null,
   "metadata": {},
   "outputs": [],
   "source": []
  }
 ],
 "metadata": {
  "kernelspec": {
   "display_name": "Python 3",
   "language": "python",
   "name": "python3"
  },
  "language_info": {
   "codemirror_mode": {
    "name": "ipython",
    "version": 3
   },
   "file_extension": ".py",
   "mimetype": "text/x-python",
   "name": "python",
   "nbconvert_exporter": "python",
   "pygments_lexer": "ipython3",
   "version": "3.7.9"
  }
 },
 "nbformat": 4,
 "nbformat_minor": 2
}