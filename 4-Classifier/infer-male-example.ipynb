{
 "cells": [
  {
   "cell_type": "code",
   "execution_count": 1,
   "metadata": {},
   "outputs": [],
   "source": [
    "import glob\n",
    "\n",
    "import numpy as np\n",
    "import tensorflow as tf\n",
    "from matplotlib import pyplot as plt\n",
    "import pandas as pd\n",
    "from sklearn import metrics\n",
    "import seaborn as sns"
   ]
  },
  {
   "cell_type": "code",
   "execution_count": 2,
   "metadata": {},
   "outputs": [
    {
     "data": {
      "text/plain": [
       "'1.15.5'"
      ]
     },
     "execution_count": 2,
     "metadata": {},
     "output_type": "execute_result"
    }
   ],
   "source": [
    "tf.__version__"
   ]
  },
  {
   "cell_type": "code",
   "execution_count": 124,
   "metadata": {},
   "outputs": [],
   "source": [
    "mmfiles = sorted(glob.glob('/home/cjw/Code/DeepLearning/classifier/Data/male/*.mm'))\n",
    "\n",
    "def read_mm(mfile):\n",
    "    hm=np.memmap(mfile, dtype=np.int32, shape=(4,))\n",
    "    shape = tuple(hm)\n",
    "    print(shape)\n",
    "    del hm\n",
    "\n",
    "    mm = np.memmap(mfile, dtype=np.float32, offset=128, shape=shape)\n",
    "    mm.shape\n",
    "    #del mm\n",
    "    #amm = mm[:,:,:,[2, 0, 4, 0, 1]]\n",
    "    amm = mm[:,:,:, [0,2,4]]\n",
    "    del mm\n",
    "    return amm"
   ]
  },
  {
   "cell_type": "code",
   "execution_count": 98,
   "metadata": {},
   "outputs": [],
   "source": [
    "tf.reset_default_graph()\n",
    "#dud = tf.get_variable('v1', shape=[2])\n",
    "sess = tf.Session()\n"
   ]
  },
  {
   "cell_type": "code",
   "execution_count": 99,
   "metadata": {},
   "outputs": [],
   "source": [
    "def normalize(x):\n",
    "    xm = x.mean(axis=(1,2), keepdims=True)\n",
    "    sm = x.std(axis=(1,2), keepdims=True)\n",
    "    xn  = (x - xm)/sm\n",
    "    return xn"
   ]
  },
  {
   "cell_type": "code",
   "execution_count": 100,
   "metadata": {
    "tags": []
   },
   "outputs": [
    {
     "name": "stdout",
     "output_type": "stream",
     "text": [
      "(4773, 64, 64, 3)\n"
     ]
    },
    {
     "data": {
      "text/plain": [
       "(array([-24.728376 ,  -1.6595844,  -1.6212324], dtype=float32),\n",
       " array([31.560041, 43.219425, 22.417572], dtype=float32),\n",
       " array([-8.6545418e-07, -2.0546072e-07, -2.0219151e-08], dtype=float32))"
      ]
     },
     "execution_count": 100,
     "metadata": {},
     "output_type": "execute_result"
    },
    {
     "data": {
      "image/png": "[encoded data removed]",
      "text/plain": [
       "<Figure size 432x144 with 3 Axes>"
      ]
     },
     "metadata": {
      "needs_background": "light"
     },
     "output_type": "display_data"
    }
   ],
   "source": [
    "npfiles = sorted(glob.glob('Data/Male/npfiles/*.npy'))\n",
    "   \n",
    "data = np.load(npfiles[2])\n",
    "data = normalize(data)\n",
    "plt.figure(figsize=(6,2))\n",
    "plt.subplot(1,3,1)\n",
    "plt.imshow(data[2567,:,:,0], cmap='gray')\n",
    "plt.subplot(1,3,2)\n",
    "plt.imshow(data[2567,:,:,1], cmap='gray')\n",
    "plt.subplot(1,3,3)\n",
    "plt.imshow(data[2567,:,:,2], cmap='gray')\n",
    "\n",
    "print(data.shape)\n",
    "data.min(axis=(0,1,2)), data.max(axis=(0,1,2)), data.mean(axis=(0,1,2))"
   ]
  },
  {
   "cell_type": "code",
   "execution_count": 108,
   "metadata": {
    "tags": []
   },
   "outputs": [
    {
     "name": "stdout",
     "output_type": "stream",
     "text": [
      "WARNING:tensorflow:The saved meta_graph is possibly from an older release:\n",
      "'metric_variables' collection should be of type 'byte_list', but instead is of type 'node_list'.\n",
      "INFO:tensorflow:Restoring parameters from /home/cjw/Code/DeepLearning/classifier/Checkpoints/Snail_Redo_for_metrics_7_classes/best-2019-08-16-10-46/best-checkpoint-21300\n"
     ]
    }
   ],
   "source": [
    "\n",
    "#checkpoint = 'Checkpoints/test/cp-2021-05-04-16-07/checkpoint-24999'\n",
    "tf.reset_default_graph()\n",
    "sess = tf.Session()\n",
    "checkpoint = '/home/cjw/Code/DeepLearning/classifier/Checkpoints/Snail_Redo_for_metrics_7_classes/best-2019-08-16-10-46/best-checkpoint-21300'\n",
    "cpmeta = checkpoint + '.meta'\n",
    "saver = tf.train.import_meta_graph(cpmeta)\n",
    "saver.restore(sess, checkpoint)"
   ]
  },
  {
   "cell_type": "code",
   "execution_count": 109,
   "metadata": {},
   "outputs": [],
   "source": [
    "a = sess.graph.get_tensor_by_name('dense_1/BiasAdd:0')\n",
    "b = sess.graph.get_tensor_by_name('LeakyRelu_13:0') #'dense_1/BiasAdd:0')\n",
    "sm = sess.graph.get_tensor_by_name('Softmax:0')\n",
    "\n",
    "softmax = sess.graph.get_tensor_by_name('Softmax:0')\n",
    "batch = sess.graph.get_tensor_by_name('Placeholder:0')"
   ]
  },
  {
   "cell_type": "code",
   "execution_count": 110,
   "metadata": {},
   "outputs": [
    {
     "data": {
      "text/plain": [
       "(<tf.Tensor 'dense_1/BiasAdd:0' shape=(?, 128) dtype=float32>,\n",
       " <tf.Tensor 'LeakyRelu_13:0' shape=(?, 128) dtype=float32>,\n",
       " <tf.Tensor 'Softmax:0' shape=(?, 7) dtype=float32>,\n",
       " <tf.Tensor 'Softmax:0' shape=(?, 7) dtype=float32>)"
      ]
     },
     "execution_count": 110,
     "metadata": {},
     "output_type": "execute_result"
    }
   ],
   "source": [
    "a, b, sm, softmax"
   ]
  },
  {
   "cell_type": "code",
   "execution_count": 111,
   "metadata": {},
   "outputs": [],
   "source": [
    "#data.max(axis=(0,1,2)), data.min(axis=(0,1,2))"
   ]
  },
  {
   "cell_type": "code",
   "execution_count": 112,
   "metadata": {},
   "outputs": [],
   "source": [
    "#cdf.groupby('ClusterID').agg('count')"
   ]
  },
  {
   "cell_type": "code",
   "execution_count": 125,
   "metadata": {},
   "outputs": [
    {
     "name": "stdout",
     "output_type": "stream",
     "text": [
      "(6832, 64, 64, 5)\n",
      "/home/cjw/Code/DeepLearning/classifier/Data/male/male_Snail_Male_R1.mm (6832, 32, 32, 3)\n",
      "(7225, 64, 64, 5)\n",
      "/home/cjw/Code/DeepLearning/classifier/Data/male/male_Snail_Male_R2.mm (7225, 32, 32, 3)\n",
      "(4773, 64, 64, 5)\n",
      "/home/cjw/Code/DeepLearning/classifier/Data/male/male_Snail_Male_R3.mm (4773, 32, 32, 3)\n",
      "(5917, 64, 64, 5)\n",
      "/home/cjw/Code/DeepLearning/classifier/Data/male/male_Snail_Male_R4.mm (5917, 32, 32, 3)\n",
      "(7755, 64, 64, 5)\n",
      "/home/cjw/Code/DeepLearning/classifier/Data/male/male_Snail_Male_R5.mm (7755, 32, 32, 3)\n"
     ]
    }
   ],
   "source": [
    "df_list = list()\n",
    "images = sess.graph.get_tensor_by_name('Placeholder:0')\n",
    "for f in mmfiles:\n",
    "    s = slice(16, 48)\n",
    "    _data = read_mm(f)\n",
    "    _data = normalize(_data)\n",
    "    _data = _data[:,s,s,:]\n",
    "    \n",
    "    #_data = (np.load(f))[:, s, s, :]\n",
    "    print(f, _data.shape)\n",
    "    _probs = sess.run(softmax, feed_dict={images:_data})\n",
    "    _c = _probs.argmax(axis=-1)\n",
    "    _df = pd.DataFrame({'probability':_probs.max(axis=-1),\n",
    "                       'class':_c, 'dataset':f})\n",
    "    df_list.append(_df)\n",
    "\n",
    "xdf = pd.concat(df_list, axis=0)"
   ]
  },
  {
   "cell_type": "code",
   "execution_count": 81,
   "metadata": {},
   "outputs": [
    {
     "name": "stdout",
     "output_type": "stream",
     "text": [
      "Data/Male/npfiles/Tifs_Snail_Male_R1.npy (6832, 32, 32, 3)\n",
      "Data/Male/npfiles/Tifs_Snail_Male_R2.npy (7225, 32, 32, 3)\n",
      "Data/Male/npfiles/Tifs_Snail_Male_R3.npy (4773, 32, 32, 3)\n",
      "Data/Male/npfiles/Tifs_Snail_Male_R4.npy (5917, 32, 32, 3)\n",
      "Data/Male/npfiles/Tifs_Snail_Male_R5.npy (7755, 32, 32, 3)\n"
     ]
    }
   ],
   "source": [
    "df_list = list()\n",
    "images = sess.graph.get_tensor_by_name('Placeholder:0')\n",
    "for f in npfiles:\n",
    "    s = slice(16, 48)\n",
    "    _data = normalize(np.load(f))[:, s, s, :]\n",
    "    #_data = (np.load(f))[:, s, s, :]\n",
    "    print(f, _data.shape)\n",
    "    _probs = sess.run(softmax, feed_dict={images:_data})\n",
    "    _c = _probs.argmax(axis=-1)\n",
    "    _df = pd.DataFrame({'probability':_probs.max(axis=-1),\n",
    "                       'class':_c, 'dataset':f})\n",
    "    df_list.append(_df)\n",
    "\n",
    "xdf = pd.concat(df_list, axis=0)"
   ]
  },
  {
   "cell_type": "code",
   "execution_count": 126,
   "metadata": {},
   "outputs": [
    {
     "data": {
      "text/html": [
       "<div>\n",
       "<style scoped>\n",
       "    .dataframe tbody tr th:only-of-type {\n",
       "        vertical-align: middle;\n",
       "    }\n",
       "\n",
       "    .dataframe tbody tr th {\n",
       "        vertical-align: top;\n",
       "    }\n",
       "\n",
       "    .dataframe thead th {\n",
       "        text-align: right;\n",
       "    }\n",
       "</style>\n",
       "<table border=\"1\" class=\"dataframe\">\n",
       "  <thead>\n",
       "    <tr style=\"text-align: right;\">\n",
       "      <th></th>\n",
       "      <th>probability</th>\n",
       "      <th>class</th>\n",
       "      <th>dataset</th>\n",
       "    </tr>\n",
       "  </thead>\n",
       "  <tbody>\n",
       "    <tr>\n",
       "      <th>0</th>\n",
       "      <td>0.395596</td>\n",
       "      <td>3</td>\n",
       "      <td>/home/cjw/Code/DeepLearning/classifier/Data/ma...</td>\n",
       "    </tr>\n",
       "    <tr>\n",
       "      <th>1</th>\n",
       "      <td>0.909171</td>\n",
       "      <td>6</td>\n",
       "      <td>/home/cjw/Code/DeepLearning/classifier/Data/ma...</td>\n",
       "    </tr>\n",
       "    <tr>\n",
       "      <th>2</th>\n",
       "      <td>0.998071</td>\n",
       "      <td>0</td>\n",
       "      <td>/home/cjw/Code/DeepLearning/classifier/Data/ma...</td>\n",
       "    </tr>\n",
       "    <tr>\n",
       "      <th>3</th>\n",
       "      <td>0.710277</td>\n",
       "      <td>6</td>\n",
       "      <td>/home/cjw/Code/DeepLearning/classifier/Data/ma...</td>\n",
       "    </tr>\n",
       "    <tr>\n",
       "      <th>4</th>\n",
       "      <td>0.990822</td>\n",
       "      <td>4</td>\n",
       "      <td>/home/cjw/Code/DeepLearning/classifier/Data/ma...</td>\n",
       "    </tr>\n",
       "    <tr>\n",
       "      <th>...</th>\n",
       "      <td>...</td>\n",
       "      <td>...</td>\n",
       "      <td>...</td>\n",
       "    </tr>\n",
       "    <tr>\n",
       "      <th>7750</th>\n",
       "      <td>0.992334</td>\n",
       "      <td>0</td>\n",
       "      <td>/home/cjw/Code/DeepLearning/classifier/Data/ma...</td>\n",
       "    </tr>\n",
       "    <tr>\n",
       "      <th>7751</th>\n",
       "      <td>0.598157</td>\n",
       "      <td>0</td>\n",
       "      <td>/home/cjw/Code/DeepLearning/classifier/Data/ma...</td>\n",
       "    </tr>\n",
       "    <tr>\n",
       "      <th>7752</th>\n",
       "      <td>0.999914</td>\n",
       "      <td>0</td>\n",
       "      <td>/home/cjw/Code/DeepLearning/classifier/Data/ma...</td>\n",
       "    </tr>\n",
       "    <tr>\n",
       "      <th>7753</th>\n",
       "      <td>0.849667</td>\n",
       "      <td>1</td>\n",
       "      <td>/home/cjw/Code/DeepLearning/classifier/Data/ma...</td>\n",
       "    </tr>\n",
       "    <tr>\n",
       "      <th>7754</th>\n",
       "      <td>0.779500</td>\n",
       "      <td>0</td>\n",
       "      <td>/home/cjw/Code/DeepLearning/classifier/Data/ma...</td>\n",
       "    </tr>\n",
       "  </tbody>\n",
       "</table>\n",
       "<p>32502 rows × 3 columns</p>\n",
       "</div>"
      ],
      "text/plain": [
       "      probability  class                                            dataset\n",
       "0        0.395596      3  /home/cjw/Code/DeepLearning/classifier/Data/ma...\n",
       "1        0.909171      6  /home/cjw/Code/DeepLearning/classifier/Data/ma...\n",
       "2        0.998071      0  /home/cjw/Code/DeepLearning/classifier/Data/ma...\n",
       "3        0.710277      6  /home/cjw/Code/DeepLearning/classifier/Data/ma...\n",
       "4        0.990822      4  /home/cjw/Code/DeepLearning/classifier/Data/ma...\n",
       "...           ...    ...                                                ...\n",
       "7750     0.992334      0  /home/cjw/Code/DeepLearning/classifier/Data/ma...\n",
       "7751     0.598157      0  /home/cjw/Code/DeepLearning/classifier/Data/ma...\n",
       "7752     0.999914      0  /home/cjw/Code/DeepLearning/classifier/Data/ma...\n",
       "7753     0.849667      1  /home/cjw/Code/DeepLearning/classifier/Data/ma...\n",
       "7754     0.779500      0  /home/cjw/Code/DeepLearning/classifier/Data/ma...\n",
       "\n",
       "[32502 rows x 3 columns]"
      ]
     },
     "execution_count": 126,
     "metadata": {},
     "output_type": "execute_result"
    }
   ],
   "source": [
    "xdf"
   ]
  },
  {
   "cell_type": "code",
   "execution_count": null,
   "metadata": {},
   "outputs": [],
   "source": [
    "pv = xdf.groupby(['dataset','class']).agg('count').reset_index()\n",
    "sns.barplot(data=pv, x='class', y='probability')\n",
    "sns.stripplot(data=pv, x='class', y='probability', color='#444444')\n",
    "plt.yscale('log')"
   ]
  },
  {
   "cell_type": "code",
   "execution_count": null,
   "metadata": {},
   "outputs": [],
   "source": [
    "pv = xdf.groupby(['dataset','class']).agg('count').reset_index()\n",
    "sns.boxplot(data=pv, x='class', y='probability')\n",
    "sns.stripplot(data=pv, x='class', y='probability', color='#444444')\n",
    "#plt.yscale('log')"
   ]
  },
  {
   "cell_type": "code",
   "execution_count": 76,
   "metadata": {},
   "outputs": [
    {
     "data": {
      "text/html": [
       "<div>\n",
       "<style scoped>\n",
       "    .dataframe tbody tr th:only-of-type {\n",
       "        vertical-align: middle;\n",
       "    }\n",
       "\n",
       "    .dataframe tbody tr th {\n",
       "        vertical-align: top;\n",
       "    }\n",
       "\n",
       "    .dataframe thead th {\n",
       "        text-align: right;\n",
       "    }\n",
       "</style>\n",
       "<table border=\"1\" class=\"dataframe\">\n",
       "  <thead>\n",
       "    <tr style=\"text-align: right;\">\n",
       "      <th></th>\n",
       "      <th>dataset</th>\n",
       "      <th>class</th>\n",
       "      <th>probability</th>\n",
       "    </tr>\n",
       "  </thead>\n",
       "  <tbody>\n",
       "    <tr>\n",
       "      <th>0</th>\n",
       "      <td>Data/Male/npfiles/Tifs_Snail_Male_R1.npy</td>\n",
       "      <td>0</td>\n",
       "      <td>2032</td>\n",
       "    </tr>\n",
       "    <tr>\n",
       "      <th>1</th>\n",
       "      <td>Data/Male/npfiles/Tifs_Snail_Male_R1.npy</td>\n",
       "      <td>1</td>\n",
       "      <td>165</td>\n",
       "    </tr>\n",
       "    <tr>\n",
       "      <th>2</th>\n",
       "      <td>Data/Male/npfiles/Tifs_Snail_Male_R1.npy</td>\n",
       "      <td>2</td>\n",
       "      <td>218</td>\n",
       "    </tr>\n",
       "    <tr>\n",
       "      <th>3</th>\n",
       "      <td>Data/Male/npfiles/Tifs_Snail_Male_R1.npy</td>\n",
       "      <td>3</td>\n",
       "      <td>1545</td>\n",
       "    </tr>\n",
       "    <tr>\n",
       "      <th>4</th>\n",
       "      <td>Data/Male/npfiles/Tifs_Snail_Male_R1.npy</td>\n",
       "      <td>4</td>\n",
       "      <td>714</td>\n",
       "    </tr>\n",
       "    <tr>\n",
       "      <th>5</th>\n",
       "      <td>Data/Male/npfiles/Tifs_Snail_Male_R1.npy</td>\n",
       "      <td>5</td>\n",
       "      <td>449</td>\n",
       "    </tr>\n",
       "    <tr>\n",
       "      <th>6</th>\n",
       "      <td>Data/Male/npfiles/Tifs_Snail_Male_R1.npy</td>\n",
       "      <td>6</td>\n",
       "      <td>1709</td>\n",
       "    </tr>\n",
       "    <tr>\n",
       "      <th>7</th>\n",
       "      <td>Data/Male/npfiles/Tifs_Snail_Male_R2.npy</td>\n",
       "      <td>0</td>\n",
       "      <td>2540</td>\n",
       "    </tr>\n",
       "    <tr>\n",
       "      <th>8</th>\n",
       "      <td>Data/Male/npfiles/Tifs_Snail_Male_R2.npy</td>\n",
       "      <td>1</td>\n",
       "      <td>168</td>\n",
       "    </tr>\n",
       "    <tr>\n",
       "      <th>9</th>\n",
       "      <td>Data/Male/npfiles/Tifs_Snail_Male_R2.npy</td>\n",
       "      <td>2</td>\n",
       "      <td>156</td>\n",
       "    </tr>\n",
       "    <tr>\n",
       "      <th>10</th>\n",
       "      <td>Data/Male/npfiles/Tifs_Snail_Male_R2.npy</td>\n",
       "      <td>3</td>\n",
       "      <td>1475</td>\n",
       "    </tr>\n",
       "    <tr>\n",
       "      <th>11</th>\n",
       "      <td>Data/Male/npfiles/Tifs_Snail_Male_R2.npy</td>\n",
       "      <td>4</td>\n",
       "      <td>590</td>\n",
       "    </tr>\n",
       "    <tr>\n",
       "      <th>12</th>\n",
       "      <td>Data/Male/npfiles/Tifs_Snail_Male_R2.npy</td>\n",
       "      <td>5</td>\n",
       "      <td>431</td>\n",
       "    </tr>\n",
       "    <tr>\n",
       "      <th>13</th>\n",
       "      <td>Data/Male/npfiles/Tifs_Snail_Male_R2.npy</td>\n",
       "      <td>6</td>\n",
       "      <td>1865</td>\n",
       "    </tr>\n",
       "    <tr>\n",
       "      <th>14</th>\n",
       "      <td>Data/Male/npfiles/Tifs_Snail_Male_R3.npy</td>\n",
       "      <td>0</td>\n",
       "      <td>1577</td>\n",
       "    </tr>\n",
       "    <tr>\n",
       "      <th>15</th>\n",
       "      <td>Data/Male/npfiles/Tifs_Snail_Male_R3.npy</td>\n",
       "      <td>1</td>\n",
       "      <td>96</td>\n",
       "    </tr>\n",
       "    <tr>\n",
       "      <th>16</th>\n",
       "      <td>Data/Male/npfiles/Tifs_Snail_Male_R3.npy</td>\n",
       "      <td>2</td>\n",
       "      <td>91</td>\n",
       "    </tr>\n",
       "    <tr>\n",
       "      <th>17</th>\n",
       "      <td>Data/Male/npfiles/Tifs_Snail_Male_R3.npy</td>\n",
       "      <td>3</td>\n",
       "      <td>1068</td>\n",
       "    </tr>\n",
       "    <tr>\n",
       "      <th>18</th>\n",
       "      <td>Data/Male/npfiles/Tifs_Snail_Male_R3.npy</td>\n",
       "      <td>4</td>\n",
       "      <td>479</td>\n",
       "    </tr>\n",
       "    <tr>\n",
       "      <th>19</th>\n",
       "      <td>Data/Male/npfiles/Tifs_Snail_Male_R3.npy</td>\n",
       "      <td>5</td>\n",
       "      <td>278</td>\n",
       "    </tr>\n",
       "    <tr>\n",
       "      <th>20</th>\n",
       "      <td>Data/Male/npfiles/Tifs_Snail_Male_R3.npy</td>\n",
       "      <td>6</td>\n",
       "      <td>1184</td>\n",
       "    </tr>\n",
       "    <tr>\n",
       "      <th>21</th>\n",
       "      <td>Data/Male/npfiles/Tifs_Snail_Male_R4.npy</td>\n",
       "      <td>0</td>\n",
       "      <td>2443</td>\n",
       "    </tr>\n",
       "    <tr>\n",
       "      <th>22</th>\n",
       "      <td>Data/Male/npfiles/Tifs_Snail_Male_R4.npy</td>\n",
       "      <td>1</td>\n",
       "      <td>113</td>\n",
       "    </tr>\n",
       "    <tr>\n",
       "      <th>23</th>\n",
       "      <td>Data/Male/npfiles/Tifs_Snail_Male_R4.npy</td>\n",
       "      <td>2</td>\n",
       "      <td>89</td>\n",
       "    </tr>\n",
       "    <tr>\n",
       "      <th>24</th>\n",
       "      <td>Data/Male/npfiles/Tifs_Snail_Male_R4.npy</td>\n",
       "      <td>3</td>\n",
       "      <td>1213</td>\n",
       "    </tr>\n",
       "    <tr>\n",
       "      <th>25</th>\n",
       "      <td>Data/Male/npfiles/Tifs_Snail_Male_R4.npy</td>\n",
       "      <td>4</td>\n",
       "      <td>383</td>\n",
       "    </tr>\n",
       "    <tr>\n",
       "      <th>26</th>\n",
       "      <td>Data/Male/npfiles/Tifs_Snail_Male_R4.npy</td>\n",
       "      <td>5</td>\n",
       "      <td>490</td>\n",
       "    </tr>\n",
       "    <tr>\n",
       "      <th>27</th>\n",
       "      <td>Data/Male/npfiles/Tifs_Snail_Male_R4.npy</td>\n",
       "      <td>6</td>\n",
       "      <td>1186</td>\n",
       "    </tr>\n",
       "    <tr>\n",
       "      <th>28</th>\n",
       "      <td>Data/Male/npfiles/Tifs_Snail_Male_R5.npy</td>\n",
       "      <td>0</td>\n",
       "      <td>2876</td>\n",
       "    </tr>\n",
       "    <tr>\n",
       "      <th>29</th>\n",
       "      <td>Data/Male/npfiles/Tifs_Snail_Male_R5.npy</td>\n",
       "      <td>1</td>\n",
       "      <td>336</td>\n",
       "    </tr>\n",
       "    <tr>\n",
       "      <th>30</th>\n",
       "      <td>Data/Male/npfiles/Tifs_Snail_Male_R5.npy</td>\n",
       "      <td>2</td>\n",
       "      <td>326</td>\n",
       "    </tr>\n",
       "    <tr>\n",
       "      <th>31</th>\n",
       "      <td>Data/Male/npfiles/Tifs_Snail_Male_R5.npy</td>\n",
       "      <td>3</td>\n",
       "      <td>1885</td>\n",
       "    </tr>\n",
       "    <tr>\n",
       "      <th>32</th>\n",
       "      <td>Data/Male/npfiles/Tifs_Snail_Male_R5.npy</td>\n",
       "      <td>4</td>\n",
       "      <td>285</td>\n",
       "    </tr>\n",
       "    <tr>\n",
       "      <th>33</th>\n",
       "      <td>Data/Male/npfiles/Tifs_Snail_Male_R5.npy</td>\n",
       "      <td>5</td>\n",
       "      <td>562</td>\n",
       "    </tr>\n",
       "    <tr>\n",
       "      <th>34</th>\n",
       "      <td>Data/Male/npfiles/Tifs_Snail_Male_R5.npy</td>\n",
       "      <td>6</td>\n",
       "      <td>1485</td>\n",
       "    </tr>\n",
       "  </tbody>\n",
       "</table>\n",
       "</div>"
      ],
      "text/plain": [
       "                                     dataset  class  probability\n",
       "0   Data/Male/npfiles/Tifs_Snail_Male_R1.npy      0         2032\n",
       "1   Data/Male/npfiles/Tifs_Snail_Male_R1.npy      1          165\n",
       "2   Data/Male/npfiles/Tifs_Snail_Male_R1.npy      2          218\n",
       "3   Data/Male/npfiles/Tifs_Snail_Male_R1.npy      3         1545\n",
       "4   Data/Male/npfiles/Tifs_Snail_Male_R1.npy      4          714\n",
       "5   Data/Male/npfiles/Tifs_Snail_Male_R1.npy      5          449\n",
       "6   Data/Male/npfiles/Tifs_Snail_Male_R1.npy      6         1709\n",
       "7   Data/Male/npfiles/Tifs_Snail_Male_R2.npy      0         2540\n",
       "8   Data/Male/npfiles/Tifs_Snail_Male_R2.npy      1          168\n",
       "9   Data/Male/npfiles/Tifs_Snail_Male_R2.npy      2          156\n",
       "10  Data/Male/npfiles/Tifs_Snail_Male_R2.npy      3         1475\n",
       "11  Data/Male/npfiles/Tifs_Snail_Male_R2.npy      4          590\n",
       "12  Data/Male/npfiles/Tifs_Snail_Male_R2.npy      5          431\n",
       "13  Data/Male/npfiles/Tifs_Snail_Male_R2.npy      6         1865\n",
       "14  Data/Male/npfiles/Tifs_Snail_Male_R3.npy      0         1577\n",
       "15  Data/Male/npfiles/Tifs_Snail_Male_R3.npy      1           96\n",
       "16  Data/Male/npfiles/Tifs_Snail_Male_R3.npy      2           91\n",
       "17  Data/Male/npfiles/Tifs_Snail_Male_R3.npy      3         1068\n",
       "18  Data/Male/npfiles/Tifs_Snail_Male_R3.npy      4          479\n",
       "19  Data/Male/npfiles/Tifs_Snail_Male_R3.npy      5          278\n",
       "20  Data/Male/npfiles/Tifs_Snail_Male_R3.npy      6         1184\n",
       "21  Data/Male/npfiles/Tifs_Snail_Male_R4.npy      0         2443\n",
       "22  Data/Male/npfiles/Tifs_Snail_Male_R4.npy      1          113\n",
       "23  Data/Male/npfiles/Tifs_Snail_Male_R4.npy      2           89\n",
       "24  Data/Male/npfiles/Tifs_Snail_Male_R4.npy      3         1213\n",
       "25  Data/Male/npfiles/Tifs_Snail_Male_R4.npy      4          383\n",
       "26  Data/Male/npfiles/Tifs_Snail_Male_R4.npy      5          490\n",
       "27  Data/Male/npfiles/Tifs_Snail_Male_R4.npy      6         1186\n",
       "28  Data/Male/npfiles/Tifs_Snail_Male_R5.npy      0         2876\n",
       "29  Data/Male/npfiles/Tifs_Snail_Male_R5.npy      1          336\n",
       "30  Data/Male/npfiles/Tifs_Snail_Male_R5.npy      2          326\n",
       "31  Data/Male/npfiles/Tifs_Snail_Male_R5.npy      3         1885\n",
       "32  Data/Male/npfiles/Tifs_Snail_Male_R5.npy      4          285\n",
       "33  Data/Male/npfiles/Tifs_Snail_Male_R5.npy      5          562\n",
       "34  Data/Male/npfiles/Tifs_Snail_Male_R5.npy      6         1485"
      ]
     },
     "execution_count": 76,
     "metadata": {},
     "output_type": "execute_result"
    }
   ],
   "source": [
    "pv"
   ]
  },
  {
   "cell_type": "code",
   "execution_count": null,
   "metadata": {},
   "outputs": [],
   "source": []
  }
 ],
 "metadata": {
  "kernelspec": {
   "display_name": "image3c",
   "language": "python",
   "name": "image3c"
  },
  "language_info": {
   "codemirror_mode": {
    "name": "ipython",
    "version": 3
   },
   "file_extension": ".py",
   "mimetype": "text/x-python",
   "name": "python",
   "nbconvert_exporter": "python",
   "pygments_lexer": "ipython3",
   "version": "3.7.10"
  }
 },
 "nbformat": 4,
 "nbformat_minor": 2
}
