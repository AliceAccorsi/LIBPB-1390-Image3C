{
 "cells": [
  {
   "cell_type": "markdown",
   "metadata": {},
   "source": [
    "In this notebook we will look at the performance of the classifier with metrics\n",
    "from the Python scikit-image library.\n",
    "\n",
    "First thing, import the packages we will use."
   ]
  },
  {
   "cell_type": "code",
   "execution_count": 1,
   "metadata": {},
   "outputs": [],
   "source": [
    "import numpy as np\n",
    "import tensorflow as tf\n",
    "from matplotlib import pyplot as plt\n",
    "import pandas as pd\n",
    "from sklearn import metrics\n",
    "from sklearn.preprocessing import LabelBinarizer\n",
    "import seaborn as sns"
   ]
  },
  {
   "cell_type": "markdown",
   "metadata": {},
   "source": [
    "Check that the installed version of Tensorflow is <= 1.15.5"
   ]
  },
  {
   "cell_type": "code",
   "execution_count": 2,
   "metadata": {},
   "outputs": [
    {
     "data": {
      "text/plain": [
       "'1.15.5'"
      ]
     },
     "execution_count": 2,
     "metadata": {},
     "output_type": "execute_result"
    }
   ],
   "source": [
    "tf.__version__"
   ]
  },
  {
   "cell_type": "markdown",
   "metadata": {},
   "source": [
    "### Load images and labels\n",
    "\n",
    "When the training ran, 10 percent of the images where held out and saved to a numpy file.\n",
    "These will be used to test the performance. A commented out line with all of the images used\n",
    "in training can be used if desired.\n",
    "\n",
    "The images were normalized to have zero mean and a standard deviation of 1. This will need to be done now also."
   ]
  },
  {
   "cell_type": "code",
   "execution_count": 20,
   "metadata": {
    "tags": []
   },
   "outputs": [
    {
     "data": {
      "text/plain": [
       "(3548, 1.4111584e-09, 1.0000001)"
      ]
     },
     "execution_count": 20,
     "metadata": {},
     "output_type": "execute_result"
    }
   ],
   "source": [
    "data = np.load('Checkpoints/testvalidation_images.npy')\n",
    "_labels = np.load('Checkpoints/testvalidation_labels.npy')\n",
    "\n",
    "## use the following for all (trained/test/validation) in the dataset\n",
    "#data = np.load('Data/snail_images.npy')\n",
    "#labels = np.load('Data/snail_labels.npy')\n",
    "\n",
    "def normalize(x):\n",
    "    ''' Normalize the images to mean=0 and std=1\n",
    "    \n",
    "    Parameters\n",
    "    ----------\n",
    "    x : array\n",
    "        Array of images, (?, y, x, channel)\n",
    "        \n",
    "    Returns\n",
    "    -------\n",
    "    xn : array\n",
    "        normalized images\n",
    "    '''\n",
    "    \n",
    "    xm = x.mean(axis=(1,2), keepdims=True)\n",
    "    sm = x.std(axis=(1,2), keepdims=True)\n",
    "    xn  = (x - xm)/sm\n",
    "    return xn\n",
    "\n",
    "data = normalize(data)\n",
    "\n",
    "#check some data info\n",
    "len(data), data.mean(), data.std()"
   ]
  },
  {
   "cell_type": "markdown",
   "metadata": {},
   "source": [
    "### Look at some images\n",
    "\n",
    "We can plot some images to verify they are loaded properly. Change image_num to see a different image"
   ]
  },
  {
   "cell_type": "code",
   "execution_count": 43,
   "metadata": {},
   "outputs": [
    {
     "data": {
      "text/plain": [
       "<matplotlib.image.AxesImage at 0x7f0817a3db10>"
      ]
     },
     "execution_count": 43,
     "metadata": {},
     "output_type": "execute_result"
    },
    {
     "data": {
      "image/png": "[encoded data removed]",
      "text/plain": [
       "<Figure size 432x144 with 3 Axes>"
      ]
     },
     "metadata": {
      "needs_background": "light"
     },
     "output_type": "display_data"
    }
   ],
   "source": [
    "image_num = 452\n",
    "fig, ax = plt.subplots(1,3, figsize=(6,2))\n",
    "ax[0].imshow(data[image_num,:,:,0], cmap='gray')\n",
    "ax[1].imshow(data[image_num,:,:,1])\n",
    "ax[2].imshow(data[image_num,:,:,2], cmap='inferno')"
   ]
  },
  {
   "cell_type": "markdown",
   "metadata": {},
   "source": [
    "### Combine classes\n",
    "\n",
    "The training was performed by combining labeld clusters with similar morphology and overlap in the force-directed layout. The next cell will combine the classes. The labels are in a one-hot encoded format, so a cell labeled with cluster 2 will have a label \\[0, 0, 1, 0, 0, 0, 0, 0, 0\\]. "
   ]
  },
  {
   "cell_type": "code",
   "execution_count": 21,
   "metadata": {},
   "outputs": [],
   "source": [
    "# convert the one-hot encoded labels to a vector\n",
    "d_labels = _labels.argmax(axis=1)\n",
    "\n",
    "# where d_labels is equal to 8, replace it with 0, otherwise leave it\n",
    "d_labels = np.where(d_labels == 8, 0, d_labels)\n",
    "# where d_labels is equal to 7, replace it with 4, otherwise leave it\n",
    "d_labels = np.where(d_labels == 7, 4, d_labels)\n",
    "\n",
    "## Transform back into one-hot encoded format\n",
    "bl = LabelBinarizer()\n",
    "bl.fit(np.arange(7))\n",
    "labels = bl.transform(d_labels)\n"
   ]
  },
  {
   "cell_type": "markdown",
   "metadata": {},
   "source": [
    "### Tensorflow setup\n",
    "This cell resets tensorflow, create a session and opens a trained model (checkpoint). The train saves a checkpoint at the iteration with the best accuracy, and also a checkpoint at the last iteration. Check the results of both to check how they do,"
   ]
  },
  {
   "cell_type": "code",
   "execution_count": 22,
   "metadata": {
    "tags": []
   },
   "outputs": [
    {
     "name": "stdout",
     "output_type": "stream",
     "text": [
      "INFO:tensorflow:Restoring parameters from Checkpoints/test/best-2021-05-04-16-07/best-checkpoint-20500\n"
     ]
    }
   ],
   "source": [
    "## reset tensorflow and create a new session\n",
    "tf.reset_default_graph()\n",
    "sess = tf.Session()\n",
    "\n",
    "## Last checkpoint\n",
    "#checkpoint = 'Checkpoints/test/cp-2021-05-04-16-07/checkpoint-24999'\n",
    "\n",
    "## best checkpoint\n",
    "checkpoint = 'Checkpoints/test/best-2021-05-04-16-07/best-checkpoint-20500'\n",
    "\n",
    "# Load the checkpoint into the Tensorflow session\n",
    "cpmeta = checkpoint + '.meta'\n",
    "saver = tf.train.import_meta_graph(cpmeta)\n",
    "saver.restore(sess, checkpoint)"
   ]
  },
  {
   "cell_type": "code",
   "execution_count": 23,
   "metadata": {},
   "outputs": [],
   "source": [
    "'''\n",
    "tensors \\(arrays\\) from the network need be be variables\n",
    "\n",
    "softmax : the probability a cell belongs to each class\n",
    "\n",
    "images : the images input into the network\n",
    "'''\n",
    "\n",
    "softmax = sess.graph.get_tensor_by_name('Softmax:0')\n",
    "images = sess.graph.get_tensor_by_name('Placeholder:0')"
   ]
  },
  {
   "cell_type": "code",
   "execution_count": 24,
   "metadata": {},
   "outputs": [
    {
     "data": {
      "text/plain": [
       "(<tf.Tensor 'Placeholder:0' shape=(?, 32, 32, 3) dtype=float32>,\n",
       " <tf.Tensor 'Softmax:0' shape=(?, 7) dtype=float32>)"
      ]
     },
     "execution_count": 24,
     "metadata": {},
     "output_type": "execute_result"
    }
   ],
   "source": [
    "## check the shape of the tensors\n",
    "\n",
    "images, softmax"
   ]
  },
  {
   "cell_type": "code",
   "execution_count": 26,
   "metadata": {},
   "outputs": [],
   "source": [
    "## this will input the images into the network and\n",
    "## return the softmax variable as numpy array of probabilies \n",
    "probs = sess.run(softmax, feed_dict={images:data})\n",
    "\n",
    "## the prediction for each cell is the class with\n",
    "## the highest probability\n",
    "predictions = np.argmax(probs, axis=-1)\n",
    "\n",
    "## put the results into a pandas datafrae\n",
    "xdf = pd.DataFrame({'prediction':predictions,\n",
    "                    'prob_max':probs.max(axis=-1), 'dataset':'snail'})\n",
    "xdf['cluster'] = d_labels"
   ]
  },
  {
   "cell_type": "code",
   "execution_count": 40,
   "metadata": {},
   "outputs": [
    {
     "data": {
      "text/plain": [
       "array([9.6049118e-01, 6.4869889e-04, 2.4315679e-02, 2.4203390e-04,\n",
       "       1.1818422e-03, 8.3171315e-03, 4.8033805e-03], dtype=float32)"
      ]
     },
     "execution_count": 40,
     "metadata": {},
     "output_type": "execute_result"
    }
   ],
   "source": [
    "## look at the probabilites for one of the cells\n",
    "## the highest will be the prediction\n",
    "probs[451]"
   ]
  },
  {
   "cell_type": "code",
   "execution_count": 42,
   "metadata": {},
   "outputs": [
    {
     "data": {
      "text/plain": [
       "'This predicted class is: 0 with a probability of 0.9604911804199219'"
      ]
     },
     "execution_count": 42,
     "metadata": {},
     "output_type": "execute_result"
    }
   ],
   "source": [
    "## the prediction from the above probabilites\n",
    "f\"This predicted class is: {predictions[451]} with a probability of {probs[451].max()}\""
   ]
  },
  {
   "cell_type": "code",
   "execution_count": 31,
   "metadata": {},
   "outputs": [
    {
     "data": {
      "text/plain": [
       "Text(0.5, 1.0, 'Labels')"
      ]
     },
     "execution_count": 31,
     "metadata": {},
     "output_type": "execute_result"
    },
    {
     "data": {
      "image/png": "[encoded data removed]",
      "text/plain": [
       "<Figure size 864x432 with 2 Axes>"
      ]
     },
     "metadata": {
      "needs_background": "light"
     },
     "output_type": "display_data"
    }
   ],
   "source": [
    "## checkout how the class distribution compares to the labes\n",
    "\n",
    "fig, ax = plt.subplots(1,2, sharex=True, sharey=True, figsize=(12,6))\n",
    "sns.countplot(data=xdf, x='prediction', ax=ax[0])\n",
    "sns.countplot(data=xdf, x='cluster', ax=ax[1])\n",
    "ax[0].set_title('Predictions')\n",
    "ax[1].set_title('Labels')\n",
    "#plt.yscale('log')"
   ]
  },
  {
   "cell_type": "markdown",
   "metadata": {},
   "source": [
    "### Check performance"
   ]
  },
  {
   "cell_type": "code",
   "execution_count": 52,
   "metadata": {},
   "outputs": [
    {
     "name": "stdout",
     "output_type": "stream",
     "text": [
      "The accuracy score is: 0.6637542277339347\n",
      "\n",
      "Classification Report\n",
      "---------------------\n",
      "\n",
      "              precision    recall  f1-score   support\n",
      "\n",
      "           0       0.94      0.68      0.79      1889\n",
      "           1       0.34      0.61      0.43       152\n",
      "           2       0.32      0.77      0.45       205\n",
      "           3       0.63      0.78      0.70       529\n",
      "           4       0.41      0.57      0.47       104\n",
      "           5       0.52      0.55      0.54       345\n",
      "           6       0.62      0.47      0.53       324\n",
      "\n",
      "    accuracy                           0.66      3548\n",
      "   macro avg       0.54      0.63      0.56      3548\n",
      "weighted avg       0.75      0.66      0.69      3548\n",
      "\n",
      "Confusion Matrix\n",
      "----------------\n",
      "\n",
      "[[1287   40  266  156   18   71   51]\n",
      " [   0   93   22   24    3    8    2]\n",
      " [  19   10  157   13    1    4    1]\n",
      " [  14   47   26  415    4   11   12]\n",
      " [   5    2    1    0   59   34    3]\n",
      " [  21   47    6   11   43  191   26]\n",
      " [  19   37   13   36   17   49  153]]\n"
     ]
    }
   ],
   "source": [
    "val_nums = labels.argmax(axis=1)\n",
    "vsm_nums = probs.argmax(axis=1)\n",
    "val_accuracy = metrics.accuracy_score(val_nums, vsm_nums)\n",
    "\n",
    "val_cm = metrics.confusion_matrix(val_nums, vsm_nums)\n",
    "\n",
    "val_report = metrics.classification_report(val_nums, vsm_nums)\n",
    "\n",
    "print(f\"The accuracy score is: {val_accuracy}\\n\")\n",
    "\n",
    "print(\"Classification Report\")\n",
    "print(\"---------------------\\n\")\n",
    "print(val_report)\n",
    "\n",
    "print(\"Confusion Matrix\")\n",
    "print(\"----------------\\n\")\n",
    "print(val_cm)"
   ]
  },
  {
   "cell_type": "code",
   "execution_count": null,
   "metadata": {},
   "outputs": [],
   "source": []
  }
 ],
 "metadata": {
  "kernelspec": {
   "display_name": "image3c",
   "language": "python",
   "name": "image3c"
  },
  "language_info": {
   "codemirror_mode": {
    "name": "ipython",
    "version": 3
   },
   "file_extension": ".py",
   "mimetype": "text/x-python",
   "name": "python",
   "nbconvert_exporter": "python",
   "pygments_lexer": "ipython3",
   "version": "3.7.10"
  }
 },
 "nbformat": 4,
 "nbformat_minor": 2
}
