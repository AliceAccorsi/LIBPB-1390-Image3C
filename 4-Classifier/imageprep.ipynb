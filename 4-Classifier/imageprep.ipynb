{
 "cells": [
  {
   "cell_type": "code",
   "execution_count": 1,
   "id": "e0446671",
   "metadata": {},
   "outputs": [],
   "source": [
    "import numpy as np\n",
    "from matplotlib import pyplot as plt\n",
    "import tifffile\n",
    "import pickle\n",
    "\n",
    "from image3c import imageprep, utils as u3c"
   ]
  },
  {
   "cell_type": "markdown",
   "id": "414e930e",
   "metadata": {},
   "source": [
    "## Save images for folders into numpy array files\n",
    "\n",
    "use `imageprep.run('tif file location', 'folder to save numpy files')`\n",
    "\n",
    "This is convert tiff files exported from FlowSight and save them in a file\n",
    "the can be directly loaded into python as a numpy array. Each image will be\n",
    "cropped or padded to `64x64x(number of channels).`\n",
    "\n",
    "This can take a while if you have many images.\n"
   ]
  },
  {
   "cell_type": "code",
   "execution_count": 5,
   "id": "c96148ee",
   "metadata": {},
   "outputs": [
    {
     "name": "stdout",
     "output_type": "stream",
     "text": [
      "Starting:  0 Data/Male/Tifs/Snail_Male_R2\n",
      "(7225, 64, 64, 3)\n",
      "Cannot make Data/Male/npfiles/\n",
      "Starting:  1 Data/Male/Tifs/Snail_Male_R3\n",
      "(4773, 64, 64, 3)\n",
      "Cannot make Data/Male/npfiles/\n",
      "Starting:  2 Data/Male/Tifs/Snail_Male_R4\n",
      "(5917, 64, 64, 3)\n",
      "Cannot make Data/Male/npfiles/\n",
      "Starting:  3 Data/Male/Tifs/Snail_Male_R1\n",
      "(6832, 64, 64, 3)\n",
      "Cannot make Data/Male/npfiles/\n",
      "Starting:  4 Data/Male/Tifs/Snail_Male_R5\n",
      "(7755, 64, 64, 3)\n",
      "Cannot make Data/Male/npfiles/\n"
     ]
    }
   ],
   "source": [
    "imageprep.run('Data/Male/Tifs/', 'Data/Male/npfiles/')"
   ]
  },
  {
   "cell_type": "code",
   "execution_count": null,
   "id": "5fa86de2",
   "metadata": {},
   "outputs": [],
   "source": []
  },
  {
   "cell_type": "markdown",
   "id": "1e117cc0",
   "metadata": {},
   "source": [
    "### Extract clusters from csv file to create labels\n",
    "\n",
    "Cluster id and feature information for the images used to train the snail data is stored in Data/ClusterIDs.csv.\n",
    "\n",
    "This file will be used to create labels. The corresponding numpy image file is Data/snail_images.npy and label file is Data/snail_labels.npy."
   ]
  },
  {
   "cell_type": "code",
   "execution_count": 9,
   "id": "10551116",
   "metadata": {},
   "outputs": [
    {
     "data": {
      "text/plain": [
       "(35469, array([10930,  1729,  2015,  4899,   276,  3152,  3081,   867,  8520]))"
      ]
     },
     "execution_count": 9,
     "metadata": {},
     "output_type": "execute_result"
    }
   ],
   "source": [
    "labels = u3c.cluster_to_classes('Data/ClusterIDs.csv')\n",
    "\n",
    "labels.sum(), labels.sum(axis=0)"
   ]
  },
  {
   "cell_type": "code",
   "execution_count": 16,
   "id": "ba522515",
   "metadata": {},
   "outputs": [
    {
     "data": {
      "text/plain": [
       "array([[1, 0, 0, 0, 0, 0, 0, 0, 0],\n",
       "       [0, 0, 0, 0, 0, 0, 0, 0, 1],\n",
       "       [1, 0, 0, 0, 0, 0, 0, 0, 0],\n",
       "       [0, 0, 0, 0, 0, 0, 0, 0, 1],\n",
       "       [0, 0, 0, 0, 0, 0, 1, 0, 0]])"
      ]
     },
     "execution_count": 16,
     "metadata": {},
     "output_type": "execute_result"
    }
   ],
   "source": [
    "'''labels is a one-hot encoded array, where each row is a cell\n",
    "and the previously assigned cluster is the element with value 1\n",
    "\n",
    "here are some examples:\n",
    "'''\n",
    "\n",
    "labels[[18,11200,6789, 12000, 30000]]"
   ]
  },
  {
   "cell_type": "code",
   "execution_count": 25,
   "id": "704f6f9f",
   "metadata": {},
   "outputs": [],
   "source": [
    "## save labels as npy file\n",
    "np.save('Data/labels.npy', labels)"
   ]
  },
  {
   "cell_type": "code",
   "execution_count": 3,
   "id": "7f25e701",
   "metadata": {},
   "outputs": [
    {
     "data": {
      "text/plain": [
       "181858"
      ]
     },
     "execution_count": 3,
     "metadata": {},
     "output_type": "execute_result"
    }
   ],
   "source": [
    "## load a saved npy image file to verify"
   ]
  },
  {
   "cell_type": "code",
   "execution_count": 18,
   "id": "3ba879d4",
   "metadata": {},
   "outputs": [
    {
     "data": {
      "text/plain": [
       "(7225, 64, 64, 3)"
      ]
     },
     "execution_count": 18,
     "metadata": {},
     "output_type": "execute_result"
    }
   ],
   "source": [
    "x = np.load('Data/Male/npfiles/Tifs_Snail_Male_R2.npy')\n",
    "x.shape"
   ]
  },
  {
   "cell_type": "code",
   "execution_count": 19,
   "id": "21ad907a",
   "metadata": {},
   "outputs": [
    {
     "data": {
      "text/plain": [
       "<matplotlib.image.AxesImage at 0x7f9125803850>"
      ]
     },
     "execution_count": 19,
     "metadata": {},
     "output_type": "execute_result"
    },
    {
     "data": {
      "image/png": "[encoded data removed]",
      "text/plain": [
       "<Figure size 432x144 with 3 Axes>"
      ]
     },
     "metadata": {
      "needs_background": "light"
     },
     "output_type": "display_data"
    }
   ],
   "source": [
    "image_num = 452\n",
    "fig, ax = plt.subplots(1,3, figsize=(6,2))\n",
    "ax[0].imshow(x[image_num,:,:,0], cmap='gray')\n",
    "ax[1].imshow(x[image_num,:,:,1])\n",
    "ax[2].imshow(x[image_num,:,:,2], cmap='inferno')"
   ]
  },
  {
   "cell_type": "code",
   "execution_count": null,
   "id": "93ed55bd",
   "metadata": {},
   "outputs": [],
   "source": []
  }
 ],
 "metadata": {
  "kernelspec": {
   "display_name": "image3c",
   "language": "python",
   "name": "image3c"
  },
  "language_info": {
   "codemirror_mode": {
    "name": "ipython",
    "version": 3
   },
   "file_extension": ".py",
   "mimetype": "text/x-python",
   "name": "python",
   "nbconvert_exporter": "python",
   "pygments_lexer": "ipython3",
   "version": "3.7.10"
  }
 },
 "nbformat": 4,
 "nbformat_minor": 5
}
