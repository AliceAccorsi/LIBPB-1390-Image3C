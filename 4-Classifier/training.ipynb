{
 "cells": [
  {
   "cell_type": "markdown",
   "id": "da0571f1",
   "metadata": {},
   "source": [
    "## Training the classifier\n",
    "\n",
    "Use this notebook to train the image3c classifier using the clusters assigned previously\n",
    "as labels for classes.\n",
    "\n",
    "Before running this notebook, the [imageprep.ipynb](imageprep.ipynb) notebook needs to be run\n",
    "to put the images into the rigth format for training and to create a file with\n",
    "class labels from the clustering results.\n",
    "\n",
    "To perform the training we only need to import image3c.network_training.\n",
    "\n",
    "This notebook creates a dictionary of parameters to tell the trainer where to\n",
    "find images and labels, where to save the trained network, and other network\n",
    "parameters."
   ]
  },
  {
   "cell_type": "code",
   "execution_count": 1,
   "id": "25cb9936",
   "metadata": {},
   "outputs": [],
   "source": [
    "import os\n",
    "\n",
    "from image3c import network_training"
   ]
  },
  {
   "cell_type": "code",
   "execution_count": 4,
   "id": "f7f2075d",
   "metadata": {},
   "outputs": [],
   "source": [
    "slash = os.path.sep"
   ]
  },
  {
   "cell_type": "markdown",
   "id": "5d0d2ea5",
   "metadata": {},
   "source": [
    "### Create the parameter dictionary\n",
    "\n",
    "- description :   Description of the experiment\n",
    "- num_classes :   The number of clusters found with Vortex clustering\n",
    "- datafile :      The location of the datafile in numpy format (from [imageprep.ipynb](imageprep.ipynb))\n",
    "- labelsfile :    The location of the file with label classes (from [imageprep.ipynb](imageprep.ipynb))\n",
    "- CheckointDir :\n",
    "- num_channels :  The number of channels in the dataset.\n",
    "- channels :      A list of channels to be used for training, i.e., [0, 1, 2] or [1,2,4] if you want subset of channels.\n",
    "- iterations :   How many iterations to perform. Around 25,000 seems to work well\n",
    "- batchsize  :   How many images in an iteration. This depends on the memory of your system or GPU. Start with 256 and decrease it if you experience memory errrors.\n",
    "- "
   ]
  },
  {
   "cell_type": "code",
   "execution_count": null,
   "id": "884694f0",
   "metadata": {},
   "outputs": [],
   "source": [
    "params = dict()\n",
    "params['description'] = \"norm_std\" ## Description for your training\n",
    "num_classes = 7            ## Number of class, typically the same as cluster found previously\n",
    "\n",
    "params['datafile'] = 'Data/snail_images.npy'  # path to the numpy file of the image array\n",
    "### where are the labels\n",
    "params['labelsfile'] = 'Data/snail_labels.npy' # path to numpy file with cluster labels\n",
    "params['CheckpointDir'] = \"Checkpoints/test\" # path to checkpoints\n",
    "params['num_channels'] = 5\n",
    "params['channels'] = [0,2,4] # what channels to use\n",
    "params['combine'] = [[0,8], [4,7]] \n",
    "\n",
    "params['clusterlist'] = list(range(num_classes))\n",
    "\n",
    "\n",
    "params['iterations'] = 25000 #25000\n",
    "params['learning_rate'] = 0.001 #0.0006\n",
    "params['droprate'] = 0.0\n",
    "params['l2f'] = 0.006 #0.004\n",
    "params['batchsize'] = 256\n",
    "params['tensorboard_log_dir'] = 'logs'\n",
    "### Name of output checkpoint directory\n",
    "\n",
    "if not params['CheckpointDir'].endswith(slash):\n",
    "    params['CheckpointDir'] += slash\n",
    "network_training.run(params)\n",
    "\n",
    "print(\"Done\")\n"
   ]
  },
  {
   "cell_type": "code",
   "execution_count": null,
   "id": "687a10ef",
   "metadata": {},
   "outputs": [],
   "source": []
  }
 ],
 "metadata": {
  "kernelspec": {
   "display_name": "image3c",
   "language": "python",
   "name": "image3c"
  },
  "language_info": {
   "codemirror_mode": {
    "name": "ipython",
    "version": 3
   },
   "file_extension": ".py",
   "mimetype": "text/x-python",
   "name": "python",
   "nbconvert_exporter": "python",
   "pygments_lexer": "ipython3",
   "version": "3.7.10"
  }
 },
 "nbformat": 4,
 "nbformat_minor": 5
}
