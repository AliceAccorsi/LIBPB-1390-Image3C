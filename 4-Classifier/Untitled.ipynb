{
 "cells": [
  {
   "cell_type": "code",
   "execution_count": 3,
   "id": "df095bb4",
   "metadata": {},
   "outputs": [],
   "source": [
    "import autoreload\n",
    "%load_ext autoreload\n",
    "%autoreload 2\n",
    "\n",
    "from image3c import imageprep"
   ]
  },
  {
   "cell_type": "code",
   "execution_count": 36,
   "id": "57994356",
   "metadata": {},
   "outputs": [
    {
     "name": "stdout",
     "output_type": "stream",
     "text": [
      "Starting:  0 subset/\n",
      "(984, 64, 64, 3)\n",
      "Could not create padded image (269, 47)\n",
      "Could not create padded image (269, 47)\n",
      "Could not create padded image (269, 47)\n",
      "Cannot make mmfiles/\n"
     ]
    }
   ],
   "source": [
    "imageprep.run('subset/', 'mmfiles/')"
   ]
  },
  {
   "cell_type": "code",
   "execution_count": null,
   "id": "109d4f28",
   "metadata": {},
   "outputs": [],
   "source": []
  },
  {
   "cell_type": "code",
   "execution_count": 37,
   "id": "98550ac6",
   "metadata": {},
   "outputs": [],
   "source": [
    "import numpy as np\n",
    "from matplotlib import pyplot as plt\n",
    "import tifffile"
   ]
  },
  {
   "cell_type": "code",
   "execution_count": 46,
   "id": "5474da62",
   "metadata": {},
   "outputs": [],
   "source": [
    "mmshape = np.memmap('mmfiles/subset.mm', shape=(4,), dtype=np.int32)\n",
    "shape = tuple(mmshape)\n",
    "del mmshape"
   ]
  },
  {
   "cell_type": "code",
   "execution_count": 47,
   "id": "690330ee",
   "metadata": {},
   "outputs": [],
   "source": [
    "mm = np.memmap('mmfiles/subset.mm', mode='r', offset=4*32, shape=shape, dtype=np.float32)"
   ]
  },
  {
   "cell_type": "code",
   "execution_count": 48,
   "id": "af589367",
   "metadata": {},
   "outputs": [
    {
     "data": {
      "text/plain": [
       "(984, 64, 64, 3)"
      ]
     },
     "execution_count": 48,
     "metadata": {},
     "output_type": "execute_result"
    }
   ],
   "source": [
    "mm.shape"
   ]
  },
  {
   "cell_type": "code",
   "execution_count": 33,
   "id": "7ec7bb02",
   "metadata": {},
   "outputs": [
    {
     "name": "stdout",
     "output_type": "stream",
     "text": [
      "\u001b[0m\u001b[01;34mmmfiles\u001b[0m/  \u001b[01;34mSnail1\u001b[0m/  \u001b[01;34msubset\u001b[0m/  \u001b[01;32msubset_index.pkl\u001b[0m*  \u001b[01;32mUntitled.ipynb\u001b[0m*\r\n"
     ]
    }
   ],
   "source": [
    "ls"
   ]
  },
  {
   "cell_type": "code",
   "execution_count": null,
   "id": "bce09a06",
   "metadata": {},
   "outputs": [],
   "source": []
  }
 ],
 "metadata": {
  "kernelspec": {
   "display_name": "image3c",
   "language": "python",
   "name": "image3c"
  },
  "language_info": {
   "codemirror_mode": {
    "name": "ipython",
    "version": 3
   },
   "file_extension": ".py",
   "mimetype": "text/x-python",
   "name": "python",
   "nbconvert_exporter": "python",
   "pygments_lexer": "ipython3",
   "version": "3.7.10"
  }
 },
 "nbformat": 4,
 "nbformat_minor": 5
}
